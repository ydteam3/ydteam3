{
 "cells": [
  {
   "cell_type": "code",
   "execution_count": 8,
   "id": "a20d5f16",
   "metadata": {},
   "outputs": [],
   "source": [
    "# pandas 라이브러리를 불러옵니다. pd를 약칭으로 사용합니다.\n",
    "import pandas as pd\n",
    "import numpy as np\n",
    "import matplotlib.pyplot as plt\n",
    "import seaborn as sns"
   ]
  },
  {
   "cell_type": "code",
   "execution_count": 7,
   "id": "84c4c34c",
   "metadata": {},
   "outputs": [],
   "source": [
    "df = pd.read_csv('eda-proj-fc-purchase.csv')"
   ]
  },
  {
   "cell_type": "code",
   "execution_count": null,
   "id": "60659bac",
   "metadata": {
    "scrolled": true
   },
   "outputs": [],
   "source": [
    "df.rename(columns={\"거래id\":\"transaction_id\", \"유형\":\"type\", \"고객id\":\"customer_id\",\"코스ID\":\"courseID\",\"사이트\":\"site\", \"포맷\":\"format\", \"카테고리\":\"l_category\", \"코스(상품) 이름\":\"course_name\", \"거래일자\":\"transaction_date_time\",\"쿠폰이름\":\"coupon_name\",\"판매가격\":\"sold_price\",\"결제수단\":\"payment_method\",\"실거래금액\":\"actual_sold_price\",\"쿠폰할인액\":\"coupon_discount\",\"거래금액\":\"transaction_amount\",\"환불금액\":\"refund_amount\"}, inplace=True)"
   ]
  }
 ],
 "metadata": {
  "kernelspec": {
   "display_name": "Python 3 (ipykernel)",
   "language": "python",
   "name": "python3"
  },
  "language_info": {
   "codemirror_mode": {
    "name": "ipython",
    "version": 3
   },
   "file_extension": ".py",
   "mimetype": "text/x-python",
   "name": "python",
   "nbconvert_exporter": "python",
   "pygments_lexer": "ipython3",
   "version": "3.10.9"
  }
 },
 "nbformat": 4,
 "nbformat_minor": 5
}
